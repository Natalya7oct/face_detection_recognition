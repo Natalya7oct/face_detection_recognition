{
 "cells": [
  {
   "cell_type": "code",
   "execution_count": 19,
   "metadata": {},
   "outputs": [],
   "source": [
    "import face_recognition\n",
    "from sklearn import svm\n",
    "import os\n",
    "import cv2\n",
    "import numpy as np\n",
    "from PIL import Image\n",
    "from joblib import dump, load\n",
    "import pandas as pd\n",
    "from sklearn import neighbors"
   ]
  },
  {
   "cell_type": "code",
   "execution_count": null,
   "metadata": {},
   "outputs": [],
   "source": [
    "'''\n",
    "Training and saving recognition models:\n",
    "\n",
    "dlib_svm_face_recognition - build with face_recognition lib embading and C-Support Vector Classification (sklearn, trained)\n",
    "\n",
    "dlib_knn_face_recognition - build with face_recognition lib embading and k-nearest neighbors vote (sklearn, trained)\n",
    "\n",
    "cv2_face_recognition - build with Haar feature-based cascade classifiers (cv2) and retrained Local Binary Patterns recognizer (cv2, trained)\n",
    "\n",
    "\n",
    "'''"
   ]
  },
  {
   "cell_type": "code",
   "execution_count": 17,
   "metadata": {},
   "outputs": [],
   "source": [
    "path = \"./Training\"\n",
    "train_dir = os.listdir(path)"
   ]
  },
  {
   "cell_type": "code",
   "execution_count": null,
   "metadata": {},
   "outputs": [],
   "source": [
    "encodings = []\n",
    "names = []\n",
    "\n",
    "for person in train_dir:\n",
    "    pix = os.listdir(path + '/' + person)\n",
    "    for person_img in pix:\n",
    "        face = face_recognition.load_image_file(\"./Training/\" + person + \"/\" + person_img)\n",
    "        face_bounding_boxes = face_recognition.face_locations(face)\n",
    "\n",
    "        if len(face_bounding_boxes) == 1:\n",
    "            face_enc = face_recognition.face_encodings(face)[0]\n",
    "            encodings.append(face_enc)\n",
    "            names.append(person)\n",
    "        else:\n",
    "            print(person + \"/\" + person_img + \" was skipped and can't be used for training\")\n",
    "\n",
    "clf = svm.SVC(gamma='scale', probability=True)\n",
    "clf.fit(encodings,names)\n",
    "dump(clf, \"./dlib_svm_face_recognition.joblib\") "
   ]
  },
  {
   "cell_type": "code",
   "execution_count": 20,
   "metadata": {},
   "outputs": [
    {
     "data": {
      "text/plain": [
       "['/home/green/find_faces/dlib_knn_face_recognition.joblib']"
      ]
     },
     "execution_count": 20,
     "metadata": {},
     "output_type": "execute_result"
    }
   ],
   "source": [
    "knn_clf = neighbors.KNeighborsClassifier(algorithm='ball_tree', weights='distance')\n",
    "knn_clf.fit(encodings,names)\n",
    "dump(knn_clf, \"./dlib_knn_face_recognition.joblib\") "
   ]
  },
  {
   "cell_type": "code",
   "execution_count": null,
   "metadata": {},
   "outputs": [],
   "source": [
    "recognizer = cv2.face.LBPHFaceRecognizer_create()\n",
    "detector = cv2.CascadeClassifier(\"./haarcascade_frontalface_default.xml\")\n",
    "\n",
    "def getImagesAndLabels(path):\n",
    "    folderPaths = [os.path.join(path,f) for f in os.listdir(path)] \n",
    "    faceSamples=[]\n",
    "    names = []\n",
    "    ids = []\n",
    "    id = 0\n",
    "    for folderPath in folderPaths:\n",
    "        name = folderPath.split('/')[-1]\n",
    "        path = folderPath\n",
    "        imagePaths = [os.path.join(path,f) for f in os.listdir(path)] \n",
    "        for imagePath in imagePaths:\n",
    "            PIL_img = Image.open(imagePath).convert('L') # grayscale\n",
    "            img_numpy = np.array(PIL_img,'uint8')\n",
    "            faces = detector.detectMultiScale(img_numpy)\n",
    "            for (x,y,w,h) in faces:\n",
    "                faceSamples.append(img_numpy[y:y+h,x:x+w])\n",
    "                ids.append(id)\n",
    "                names.append(name)\n",
    "        id = id + 1\n",
    "    return faceSamples, names, ids\n",
    "faces,names,ids = getImagesAndLabels(path)\n",
    "d = dict(zip(ids, names))\n",
    "faces_dict = {}\n",
    "[faces_dict.update({k:v}) for k,v in d.items() if v not in faces_dict.values()]\n",
    "\n",
    "recognizer.train(faces, np.array(ids))\n",
    "recognizer.write(\"./cv2_face_recognition.yml\") \n"
   ]
  },
  {
   "cell_type": "code",
   "execution_count": null,
   "metadata": {},
   "outputs": [],
   "source": []
  }
 ],
 "metadata": {
  "kernelspec": {
   "display_name": "Python 3",
   "language": "python",
   "name": "python3"
  },
  "language_info": {
   "codemirror_mode": {
    "name": "ipython",
    "version": 3
   },
   "file_extension": ".py",
   "mimetype": "text/x-python",
   "name": "python",
   "nbconvert_exporter": "python",
   "pygments_lexer": "ipython3",
   "version": "3.10.6"
  },
  "orig_nbformat": 4,
  "vscode": {
   "interpreter": {
    "hash": "916dbcbb3f70747c44a77c7bcd40155683ae19c65e1c03b4aa3499c5328201f1"
   }
  }
 },
 "nbformat": 4,
 "nbformat_minor": 2
}
