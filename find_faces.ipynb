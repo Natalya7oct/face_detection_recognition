{
 "cells": [
  {
   "cell_type": "code",
   "execution_count": 1,
   "metadata": {},
   "outputs": [],
   "source": [
    "import face_recognition\n",
    "from sklearn import svm\n",
    "import os\n",
    "import cv2\n",
    "import numpy as np\n",
    "from PIL import Image\n",
    "from joblib import dump, load\n",
    "import pandas as pd\n",
    "import face_recognition_api as fra # import of created lib with neccessary functions\n",
    "import time "
   ]
  },
  {
   "cell_type": "code",
   "execution_count": null,
   "metadata": {},
   "outputs": [],
   "source": [
    "path = \"./Test\" # folder for test samples\n",
    "start = time.time() # time start for checking evaluation time\n",
    "clf = load(\"./dlib_svm_face_recognition.joblib\") # loading recognition model\n",
    "metrics = []\n",
    "folderPaths = [os.path.join(path,f) for f in os.listdir(path)] # for every person folder\n",
    "for folderPath in folderPaths:\n",
    "    name = folderPath.split('/')[-1] # get the name of the person\n",
    "    path = folderPath\n",
    "    if name!='unknown':\n",
    "        imagePaths = [os.path.join(path,f) for f in os.listdir(path)] # for every video in person folder\n",
    "        for imagePath in imagePaths:\n",
    "            if imagePath[-3:]=='mp4': # for every video with mp4 format\n",
    "                id = imagePath[-5]\n",
    "                print(name, id)\n",
    "                result_path = path+'/'+id+'.txt'\n",
    "                faces = fra.show_faces(imagePath, clf) # evaluate saving and showing result of face detection and checking\n",
    "                results = fra.result(result_path) # get data from txt descriptors\n",
    "                TP, FP = fra.check(results,faces) # compare txt descriptors and the result of build function\n",
    "                TP, FN = fra.check(faces,results)\n",
    "                metrics.append([TP,FP,FN])\n",
    "                print(TP, FP, FN)\n",
    "\n",
    "res_df = pd.DataFrame(metrics).rename(columns={0: \"TP\", 1: \"FP\", 2: \"FN\"})\n",
    "res_df['precision'] = res_df.TP/(res_df.TP+res_df.FP) # calculate precision\n",
    "res_df['recall'] = res_df.TP/(res_df.TP+res_df.FN) # calculate recall\n",
    "\n",
    "print(f'Precision: {np.mean(res_df.precision):.3f} \\nRecall: {np.mean(res_df.recall):.3f}')\n",
    "end = time.time() - start # time end for checking evaluation time\n",
    "print(end)\n",
    "res_df.to_csv(\"./metrics/dlib_svm_results.txt\", header=None, index=None, sep=' ', mode='a')"
   ]
  },
  {
   "cell_type": "code",
   "execution_count": null,
   "metadata": {},
   "outputs": [],
   "source": [
    "# comments are the same as previous \n",
    "path = \"./Test\"\n",
    "start = time.time()\n",
    "clf = load(\"./dlib_knn_face_recognition.joblib\") \n",
    "metrics = []\n",
    "folderPaths = [os.path.join(path,f) for f in os.listdir(path)] \n",
    "for folderPath in folderPaths:\n",
    "    name = folderPath.split('/')[-1]\n",
    "    path = folderPath\n",
    "    if name!='unknown':\n",
    "        imagePaths = [os.path.join(path,f) for f in os.listdir(path)] \n",
    "        for imagePath in imagePaths:\n",
    "            if imagePath[-3:]=='mp4':\n",
    "                id = imagePath[-5]\n",
    "                print(name, id)\n",
    "                result_path = path+'/'+id+'.txt'\n",
    "                faces = fra.show_faces(imagePath, clf)\n",
    "                results = fra.result(result_path)\n",
    "                TP, FP = fra.check(results,faces)\n",
    "                TP, FN = fra.check(faces,results)\n",
    "                metrics.append([TP,FP,FN])\n",
    "                print(TP, FP, FN)\n",
    "\n",
    "res_df = pd.DataFrame(metrics).rename(columns={0: \"TP\", 1: \"FP\", 2: \"FN\"})\n",
    "res_df['precision'] = res_df.TP/(res_df.TP+res_df.FP)\n",
    "res_df['recall'] = res_df.TP/(res_df.TP+res_df.FN)\n",
    "\n",
    "print(f'Precision: {np.mean(res_df.precision):.3f} \\nRecall: {np.mean(res_df.recall):.3f}')\n",
    "end = time.time() - start\n",
    "print(end)\n",
    "res_df.to_csv(\"./metrics/dlib_knn_results.txt\", header=None, index=None, sep=' ', mode='a')"
   ]
  },
  {
   "cell_type": "code",
   "execution_count": 2,
   "metadata": {},
   "outputs": [],
   "source": [
    "# creating the dictionary for names\n",
    "start = time.time()\n",
    "train_path = \"./Training\"\n",
    "folderPaths = [os.path.join(train_path,f) for f in os.listdir(train_path)] \n",
    "names = []\n",
    "ids = []\n",
    "id = 0\n",
    "for folderPath in folderPaths:\n",
    "    name = folderPath.split('/')[-1]\n",
    "    ids.append(id)\n",
    "    names.append(name)\n",
    "    id = id + 1\n",
    "faces_dict = dict(zip(ids, names))\n"
   ]
  },
  {
   "cell_type": "code",
   "execution_count": null,
   "metadata": {},
   "outputs": [],
   "source": [
    "# comments are the same as previous \n",
    "path = \"./Test\"\n",
    "metrics = []\n",
    "folderPaths = [os.path.join(path,f) for f in os.listdir(path)] \n",
    "for folderPath in folderPaths:\n",
    "    name = folderPath.split('/')[-1]\n",
    "    path = folderPath\n",
    "    if name!='unknown':\n",
    "        imagePaths = [os.path.join(path,f) for f in os.listdir(path)] \n",
    "        for imagePath in imagePaths:\n",
    "            if imagePath[-3:]=='mp4':\n",
    "                id = imagePath[-5]\n",
    "                print(name, id)\n",
    "                result_path = path+'/'+id+'.txt'\n",
    "                faces = fra.show_faces_cv2(imagePath,faces_dict)\n",
    "                results = fra.result(result_path)\n",
    "                TP, FP = fra.check(results,faces)\n",
    "                TP, FN = fra.check(faces,results)\n",
    "                metrics.append([TP,FP,FN])\n",
    "                print(TP, FP, FN)\n",
    "\n",
    "res_df = pd.DataFrame(metrics).rename(columns={0: \"TP\", 1: \"FP\", 2: \"FN\"})\n",
    "res_df['precision'] = res_df.TP/(res_df.TP+res_df.FP)\n",
    "res_df['recall'] = res_df.TP/(res_df.TP+res_df.FN)\n",
    "\n",
    "print(f'Precision: {np.mean(res_df.precision):.3f} \\nRecall: {np.mean(res_df.recall):.3f}')\n",
    "end = time.time() - start\n",
    "print(end)\n",
    "res_df.to_csv(\"./metrics/cv2.txt\", header=None, index=None, sep=' ', mode='a')"
   ]
  },
  {
   "cell_type": "code",
   "execution_count": 13,
   "metadata": {},
   "outputs": [],
   "source": [
    "# delete all opened windows\n",
    "cv2.destroyAllWindows()"
   ]
  },
  {
   "cell_type": "code",
   "execution_count": null,
   "metadata": {},
   "outputs": [],
   "source": []
  }
 ],
 "metadata": {
  "kernelspec": {
   "display_name": "Python 3",
   "language": "python",
   "name": "python3"
  },
  "language_info": {
   "codemirror_mode": {
    "name": "ipython",
    "version": 3
   },
   "file_extension": ".py",
   "mimetype": "text/x-python",
   "name": "python",
   "nbconvert_exporter": "python",
   "pygments_lexer": "ipython3",
   "version": "3.10.6"
  },
  "orig_nbformat": 4,
  "vscode": {
   "interpreter": {
    "hash": "916dbcbb3f70747c44a77c7bcd40155683ae19c65e1c03b4aa3499c5328201f1"
   }
  }
 },
 "nbformat": 4,
 "nbformat_minor": 2
}
